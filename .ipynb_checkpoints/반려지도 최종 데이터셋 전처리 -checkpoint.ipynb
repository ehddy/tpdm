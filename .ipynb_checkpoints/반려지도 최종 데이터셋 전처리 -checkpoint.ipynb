{
 "cells": [
  {
   "cell_type": "code",
   "execution_count": 1,
   "id": "7705c213",
   "metadata": {},
   "outputs": [],
   "source": [
    "import pandas as pd"
   ]
  },
  {
   "cell_type": "code",
   "execution_count": 2,
   "id": "93115563",
   "metadata": {},
   "outputs": [],
   "source": [
    "data = pd.read_excel('/Users/dongyokim/main/jupyter /2022:1/tpdm/반려 지도 최종 데이터셋.xlsx')"
   ]
  },
  {
   "cell_type": "code",
   "execution_count": 3,
   "id": "f7d5fd33",
   "metadata": {},
   "outputs": [
    {
     "data": {
      "text/html": [
       "<div>\n",
       "<style scoped>\n",
       "    .dataframe tbody tr th:only-of-type {\n",
       "        vertical-align: middle;\n",
       "    }\n",
       "\n",
       "    .dataframe tbody tr th {\n",
       "        vertical-align: top;\n",
       "    }\n",
       "\n",
       "    .dataframe thead th {\n",
       "        text-align: right;\n",
       "    }\n",
       "</style>\n",
       "<table border=\"1\" class=\"dataframe\">\n",
       "  <thead>\n",
       "    <tr style=\"text-align: right;\">\n",
       "      <th></th>\n",
       "      <th>업체명</th>\n",
       "      <th>업체구분</th>\n",
       "      <th>위도</th>\n",
       "      <th>경도</th>\n",
       "      <th>시도</th>\n",
       "      <th>시군구</th>\n",
       "    </tr>\n",
       "  </thead>\n",
       "  <tbody>\n",
       "    <tr>\n",
       "      <th>0</th>\n",
       "      <td>서울/새양지가축약품사</td>\n",
       "      <td>동물약국</td>\n",
       "      <td>37.535356</td>\n",
       "      <td>127.144472</td>\n",
       "      <td>서울특별시</td>\n",
       "      <td>강동구</td>\n",
       "    </tr>\n",
       "    <tr>\n",
       "      <th>1</th>\n",
       "      <td>서울/협성가축약품</td>\n",
       "      <td>동물약국</td>\n",
       "      <td>37.566535</td>\n",
       "      <td>126.977969</td>\n",
       "      <td>서울특별시</td>\n",
       "      <td>NaN</td>\n",
       "    </tr>\n",
       "    <tr>\n",
       "      <th>2</th>\n",
       "      <td>서울/라이프동물약국</td>\n",
       "      <td>동물약국</td>\n",
       "      <td>37.566535</td>\n",
       "      <td>126.977969</td>\n",
       "      <td>서울특별시</td>\n",
       "      <td>NaN</td>\n",
       "    </tr>\n",
       "    <tr>\n",
       "      <th>3</th>\n",
       "      <td>서울축산약품상사</td>\n",
       "      <td>동물약국</td>\n",
       "      <td>37.566535</td>\n",
       "      <td>126.977969</td>\n",
       "      <td>서울특별시</td>\n",
       "      <td>NaN</td>\n",
       "    </tr>\n",
       "    <tr>\n",
       "      <th>4</th>\n",
       "      <td>서울/공항축산</td>\n",
       "      <td>동물약국</td>\n",
       "      <td>37.563614</td>\n",
       "      <td>126.807692</td>\n",
       "      <td>서울특별시</td>\n",
       "      <td>강서구</td>\n",
       "    </tr>\n",
       "  </tbody>\n",
       "</table>\n",
       "</div>"
      ],
      "text/plain": [
       "           업체명  업체구분         위도          경도     시도  시군구\n",
       "0  서울/새양지가축약품사  동물약국  37.535356  127.144472  서울특별시  강동구\n",
       "1    서울/협성가축약품  동물약국  37.566535  126.977969  서울특별시  NaN\n",
       "2   서울/라이프동물약국  동물약국  37.566535  126.977969  서울특별시  NaN\n",
       "3     서울축산약품상사  동물약국  37.566535  126.977969  서울특별시  NaN\n",
       "4      서울/공항축산  동물약국  37.563614  126.807692  서울특별시  강서구"
      ]
     },
     "execution_count": 3,
     "metadata": {},
     "output_type": "execute_result"
    }
   ],
   "source": [
    "data.head()"
   ]
  },
  {
   "cell_type": "code",
   "execution_count": 4,
   "id": "bae6e42a",
   "metadata": {},
   "outputs": [
    {
     "data": {
      "text/plain": [
       "(3569, 6)"
      ]
     },
     "execution_count": 4,
     "metadata": {},
     "output_type": "execute_result"
    }
   ],
   "source": [
    "data.shape"
   ]
  },
  {
   "cell_type": "code",
   "execution_count": 6,
   "id": "10e3847d",
   "metadata": {},
   "outputs": [],
   "source": [
    "# 중복제거 \n",
    "data = data.drop_duplicates(['업체명'])\n",
    "data.reset_index(drop=True, inplace=True)"
   ]
  },
  {
   "cell_type": "code",
   "execution_count": 7,
   "id": "23afad1b",
   "metadata": {},
   "outputs": [
    {
     "data": {
      "text/plain": [
       "(3318, 6)"
      ]
     },
     "execution_count": 7,
     "metadata": {},
     "output_type": "execute_result"
    }
   ],
   "source": [
    "data.shape"
   ]
  },
  {
   "cell_type": "code",
   "execution_count": 13,
   "id": "dbca864b",
   "metadata": {},
   "outputs": [
    {
     "data": {
      "text/plain": [
       "경기도        1359\n",
       "강원도         646\n",
       "충청남도        162\n",
       "경상북도        146\n",
       "제주특별자치도     125\n",
       "경상남도        119\n",
       "전라남도        117\n",
       "서울특별시       115\n",
       "충청북도         84\n",
       "전라북도         84\n",
       "인천광역시        84\n",
       "부산광역시        79\n",
       "대구광역시        49\n",
       "울산광역시        44\n",
       "대전광역시        42\n",
       "광주광역시        36\n",
       "강릉시           2\n",
       "가평군           2\n",
       "세종특별자치시       2\n",
       "산티아고          1\n",
       "태안군           1\n",
       "경주시           1\n",
       "충청남도          1\n",
       "서귀포시          1\n",
       "동해시           1\n",
       "보령시           1\n",
       "전주시           1\n",
       "안산시           1\n",
       "안동시           1\n",
       "연기군           1\n",
       "캄파니야          1\n",
       "담양군           1\n",
       "뉴멕시코          1\n",
       "시흥시           1\n",
       "뉴욕            1\n",
       "봉천동           1\n",
       "파주시           1\n",
       "포항시           1\n",
       "여주군           1\n",
       "춘천시           1\n",
       "Name: 시도, dtype: int64"
      ]
     },
     "execution_count": 13,
     "metadata": {},
     "output_type": "execute_result"
    }
   ],
   "source": [
    "data['시도'].value_counts()"
   ]
  },
  {
   "cell_type": "code",
   "execution_count": 16,
   "id": "0407a290",
   "metadata": {},
   "outputs": [],
   "source": [
    "data.to_excel('반려 지도 최종 데이터.xlsx')"
   ]
  },
  {
   "cell_type": "code",
   "execution_count": null,
   "id": "2f404224",
   "metadata": {},
   "outputs": [],
   "source": []
  }
 ],
 "metadata": {
  "kernelspec": {
   "display_name": "Python 3 (ipykernel)",
   "language": "python",
   "name": "python3"
  },
  "language_info": {
   "codemirror_mode": {
    "name": "ipython",
    "version": 3
   },
   "file_extension": ".py",
   "mimetype": "text/x-python",
   "name": "python",
   "nbconvert_exporter": "python",
   "pygments_lexer": "ipython3",
   "version": "3.8.12"
  }
 },
 "nbformat": 4,
 "nbformat_minor": 5
}
