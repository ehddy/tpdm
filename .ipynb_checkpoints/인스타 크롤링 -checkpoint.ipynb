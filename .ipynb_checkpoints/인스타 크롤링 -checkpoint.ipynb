{
 "cells": [
  {
   "cell_type": "code",
   "execution_count": 1,
   "id": "bd0e9499",
   "metadata": {},
   "outputs": [],
   "source": [
    "from selenium import webdriver\n",
    "import time\n",
    "from bs4 import BeautifulSoup\n",
    "from selenium import webdriver\n",
    "import re\n",
    "import pandas as pd\n",
    "import numpy as np\n"
   ]
  },
  {
   "cell_type": "code",
   "execution_count": 2,
   "id": "c451611d",
   "metadata": {},
   "outputs": [],
   "source": [
    "# 검색어 조건에 따른 url 생성\n",
    "def insta_searching(word):\n",
    "    url = 'https://www.instagram.com/explore/tags/' + str(word)\n",
    "    return url "
   ]
  },
  {
   "cell_type": "code",
   "execution_count": 3,
   "id": "213aa569",
   "metadata": {},
   "outputs": [],
   "source": [
    "# 열린 페이지에서 첫 번째 게시물 클릭 + sleep 메소드 통하여 시차 두기\n",
    "\n",
    "def select_first(driver):\n",
    "    first = driver.find_element_by_css_selector('div._9AhH0')\n",
    "    first.click()\n",
    "    time.sleep(2)"
   ]
  },
  {
   "cell_type": "code",
   "execution_count": 4,
   "id": "fb659f85",
   "metadata": {},
   "outputs": [],
   "source": [
    "def get_content(driver):\n",
    "    html = driver.page_source\n",
    "    soup = BeautifulSoup(html, 'lxml')\n",
    "    # 본문 내용\n",
    "    try:\n",
    "        content = soup.select_one('div.C4VMK > span')[0].text\n",
    "    except:\n",
    "        content = '내용 없음'\n",
    "        \n",
    "        \n",
    "        \n",
    "    data = [content]\n",
    "    \n",
    "    return data"
   ]
  },
  {
   "cell_type": "code",
   "execution_count": 5,
   "id": "3d27da5f",
   "metadata": {},
   "outputs": [],
   "source": [
    "# 첫 번째 게시물 클릭 후 다음 게시물 클릭\n",
    "def move_next(driver):\n",
    "    right = driver.find_element_by_css_selector('div.l8mY4 button div span svg')\n",
    "    right.click()\n",
    "    time.sleep(2)"
   ]
  },
  {
   "cell_type": "code",
   "execution_count": 6,
   "id": "b9467a99",
   "metadata": {},
   "outputs": [],
   "source": [
    "# 크롤링 시작\n",
    "\n",
    "# 크롬 브라우저 열기 \n",
    "driver = webdriver.Chrome('/Users/dongyo/main/jupyter /2021-2/tpdm ai/selenium/chromedriver')\n",
    "driver.implicitly_wait(2)\n",
    "\n",
    "driver.get('https://www.instagram.com')\n",
    "time.sleep(2)\n",
    "\n",
    "# 인스타그램 로그인을 위한 계정 정보 \n",
    "email = 'rlxk751@naver.com'\n",
    "input_id = driver.find_element_by_css_selector('input._2hvTZ')\n",
    "input_id.clear()\n",
    "input_id.send_keys(email)\n",
    "\n",
    "password = '비밀번호를 입력'\n",
    "input_pw = driver.find_element_by_css_selector('#loginForm > div.qF0y9.Igw0E.IwRSH.eGOV_._4EzTm.kEKum > div:nth-child(2) > div > label > input')\n",
    "input_pw.clear()\n",
    "input_pw.send_keys(password)\n",
    "input_pw.submit()\n",
    "\n",
    "time.sleep(3)"
   ]
  },
  {
   "cell_type": "code",
   "execution_count": null,
   "id": "c227d029",
   "metadata": {},
   "outputs": [],
   "source": [
    "# 보안코드 입력 \n",
    "code = input('보안코드 입력: ')\n",
    "input_code = driver.find_element_by_css_selector('#react-root > section > main > div > div > div:nth-child(1) > div > form > div.gi2oZ > div > label > input')\n",
    "input_code.clear()\n",
    "input_code.send_keys(code)\n",
    "input_code.submit()"
   ]
  },
  {
   "cell_type": "code",
   "execution_count": null,
   "id": "a2017667",
   "metadata": {},
   "outputs": [],
   "source": [
    "# 게시물을 조회할 검색 키워드 입력 요청\n",
    "word = input('검색어를 입력하세요 : ')\n",
    "word = str(word)\n",
    "url = insta_searching(word)\n",
    "\n",
    "# 검색 결과 페이지 열기 \n",
    "driver.get(url)\n",
    "time.sleep(2)\n",
    "\n",
    "# 첫 번째 게시물 클릭 \n",
    "select_first(driver)\n",
    "\n",
    "# 본격적으로 데이터 수집 시작 \n",
    "results = []\n",
    "## 수집할 게시물의 수 \n",
    "target = 30\n",
    "\n",
    "for i in range(target):\n",
    "    \n",
    "    try:\n",
    "        data = get_content(driver)\n",
    "        results.append(data)\n",
    "        move_next(driver)\n",
    "        time.sleep(2)\n",
    "    except:\n",
    "        time.sleep(2)\n",
    "        move_next(driver)\n",
    "print(results[:2])"
   ]
  },
  {
   "cell_type": "code",
   "execution_count": null,
   "id": "42ce5ae5",
   "metadata": {},
   "outputs": [],
   "source": []
  }
 ],
 "metadata": {
  "kernelspec": {
   "display_name": "Python 3 (ipykernel)",
   "language": "python",
   "name": "python3"
  },
  "language_info": {
   "codemirror_mode": {
    "name": "ipython",
    "version": 3
   },
   "file_extension": ".py",
   "mimetype": "text/x-python",
   "name": "python",
   "nbconvert_exporter": "python",
   "pygments_lexer": "ipython3",
   "version": "3.8.12"
  }
 },
 "nbformat": 4,
 "nbformat_minor": 5
}
